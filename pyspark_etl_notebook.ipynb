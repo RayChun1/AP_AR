{
 "cells": [
  {
   "cell_type": "code",
   "execution_count": null,
   "id": "6a083fe3",
   "metadata": {},
   "outputs": [],
   "source": [
    "import pyspark\n",
    "from pyspark.sql import SparkSession\n",
    "from pyspark.sql.functions import col, when, sum as spark_sum, to_date\n",
    "\n",
    "# Initialize Spark session\n",
    "spark = SparkSession.builder.appName(\"AccountsPayableReceivableETL\").getOrCreate()\n",
    "\n",
    "# Load data from Azure Data Lake\n",
    "ap_df = spark.read.csv(\"abfss://datalake@myaccount.dfs.core.windows.net/accounts-payable/*.csv\", header=True, inferSchema=True)\n",
    "ar_df = spark.read.csv(\"abfss://datalake@myaccount.dfs.core.windows.net/accounts-receivable/*.csv\", header=True, inferSchema=True)\n",
    "bank_df = spark.read.csv(\"abfss://datalake@myaccount.dfs.core.windows.net/bank-transactions/*.csv\", header=True, inferSchema=True)\n",
    "\n",
    "# Standardize date format\n",
    "ap_df = ap_df.withColumn(\"TransactionDate\", to_date(col(\"TransactionDate\"), \"yyyy-MM-dd\"))\n",
    "ar_df = ar_df.withColumn(\"TransactionDate\", to_date(col(\"TransactionDate\"), \"yyyy-MM-dd\"))\n",
    "bank_df = bank_df.withColumn(\"TransactionDate\", to_date(col(\"TransactionDate\"), \"yyyy-MM-dd\"))\n",
    "\n",
    "# Join AP and AR with bank transactions for reconciliation\n",
    "reconciled_df = ap_df.join(bank_df, (ap_df.Amount == bank_df.Amount) & (ap_df.TransactionDate == bank_df.TransactionDate), \"left\")     .withColumn(\"Reconciled\", when(col(\"bank.TransactionID\").isNotNull(), \"Yes\").otherwise(\"No\"))\n",
    "\n",
    "# Calculate outstanding and overdue transactions\n",
    "outstanding_df = ar_df.groupBy(\"CustomerID\").agg(spark_sum(\"Amount\").alias(\"OutstandingReceivable\"))\n",
    "overdue_df = ap_df.filter(col(\"DueDate\") < col(\"TransactionDate\")).groupBy(\"VendorID\").agg(spark_sum(\"Amount\").alias(\"OverduePayable\"))\n",
    "\n",
    "# Save transformed data to Azure Data Lake\n",
    "reconciled_df.write.parquet(\"abfss://datalake@myaccount.dfs.core.windows.net/processed_data/reconciled_transactions/\")\n",
    "outstanding_df.write.parquet(\"abfss://datalake@myaccount.dfs.core.windows.net/processed_data/outstanding_receivables/\")\n",
    "overdue_df.write.parquet(\"abfss://datalake@myaccount.dfs.core.windows.net/processed_data/overdue_payables/\")\n"
   ]
  }
 ],
 "metadata": {},
 "nbformat": 4,
 "nbformat_minor": 5
}